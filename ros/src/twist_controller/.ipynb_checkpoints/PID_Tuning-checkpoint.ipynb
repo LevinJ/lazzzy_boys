{
 "cells": [
  {
   "cell_type": "code",
   "execution_count": 10,
   "metadata": {},
   "outputs": [],
   "source": [
    "import math\n",
    "\n",
    "from twist_controller import Controller\n",
    "from pid import PID\n",
    "from yaw_controller import YawController\n",
    "from lowpass import LowPassFilter\n",
    "import matplotlib.pyplot as plt\n",
    "import pandas as pd"
   ]
  },
  {
   "cell_type": "code",
   "execution_count": 11,
   "metadata": {},
   "outputs": [],
   "source": [
    "vehicle_mass = 1736.35\n",
    "fuel_capacity = 13.5\n",
    "brake_deadband = .1\n",
    "decel_limit = -5\n",
    "accel_limit = 1.\n",
    "wheel_radius = 0.2413\n",
    "\n",
    "wheel_base = 2.8498\n",
    "steer_ratio = 14.8\n",
    "max_lat_accel = 3.\n",
    "max_steer_angle = 8.\n",
    "min_speed = 0."
   ]
  },
  {
   "cell_type": "code",
   "execution_count": 3,
   "metadata": {},
   "outputs": [],
   "source": [
    "MIN_NUM = float('-inf')\n",
    "MAX_NUM = float('inf')\n",
    "\n",
    "\n",
    "class PID(object):\n",
    "    def __init__(self, kp, ki, kd, mn=MIN_NUM, mx=MAX_NUM):\n",
    "        self.kp = kp\n",
    "        self.ki = ki\n",
    "        self.kd = kd\n",
    "        self.min = mn\n",
    "        self.max = mx\n",
    "\n",
    "        self.int_val = self.last_int_val = self.last_error = 0.\n",
    "\n",
    "    def reset(self):\n",
    "        self.int_val = 0.0\n",
    "        self.last_int_val = 0.0\n",
    "\n",
    "    def step(self, error, sample_time):\n",
    "        self.last_int_val = self.int_val\n",
    "\n",
    "        integral = self.int_val + error * sample_time;\n",
    "        derivative = (error - self.last_error) / sample_time;\n",
    "\n",
    "        y = self.kp * error + self.ki * self.int_val + self.kd * derivative;\n",
    "        val = max(self.min, min(y, self.max))\n",
    "\n",
    "        if val > self.max:\n",
    "            val = self.max\n",
    "        elif val < self.min:\n",
    "            val = self.min\n",
    "        else:\n",
    "            self.int_val = integral\n",
    "        self.last_error = error\n",
    "\n",
    "        return val"
   ]
  },
  {
   "cell_type": "code",
   "execution_count": 4,
   "metadata": {},
   "outputs": [],
   "source": [
    "min_speed = 0\n",
    "throttle_pid = PID(10, 5, 0.005, mn=0, mx=1)\n",
    "brake_pid = PID(10, 5, 0.005, mn=0, mx=1)\n",
    "steering_pid = PID(4, 1, 2, mn=-math.pi/3, mx=math.pi/3)\n",
    "yaw_controller = YawController(wheel_base, steer_ratio, min_speed, max_lat_accel, max_steer_angle)\n",
    "low_pass_filter = LowPassFilter(1, 1)\n",
    "controller = Controller(throttle_controller = throttle_pid,\n",
    "                             brake_controller    = brake_pid,\n",
    "                             steering_controller = yaw_controller,\n",
    "                             steering_adjustment_controller = steering_pid,\n",
    "                             smoothing_filter    = low_pass_filter)"
   ]
  },
  {
   "cell_type": "code",
   "execution_count": 5,
   "metadata": {},
   "outputs": [
    {
     "ename": "NameError",
     "evalue": "name 'get_pv' is not defined",
     "output_type": "error",
     "traceback": [
      "\u001b[0;31m---------------------------------------------------------------------------\u001b[0m",
      "\u001b[0;31mNameError\u001b[0m                                 Traceback (most recent call last)",
      "\u001b[0;32m<ipython-input-5-5c98946998f7>\u001b[0m in \u001b[0;36m<module>\u001b[0;34m()\u001b[0m\n\u001b[1;32m      9\u001b[0m \u001b[0;31m# Control loop\u001b[0m\u001b[0;34m\u001b[0m\u001b[0;34m\u001b[0m\u001b[0m\n\u001b[1;32m     10\u001b[0m \u001b[0;32mfor\u001b[0m \u001b[0mi\u001b[0m \u001b[0;32min\u001b[0m \u001b[0mrange\u001b[0m\u001b[0;34m(\u001b[0m\u001b[0;36m1000\u001b[0m\u001b[0;34m)\u001b[0m\u001b[0;34m:\u001b[0m\u001b[0;34m\u001b[0m\u001b[0m\n\u001b[0;32m---> 11\u001b[0;31m     \u001b[0mpv\u001b[0m \u001b[0;34m=\u001b[0m \u001b[0mget_pv\u001b[0m\u001b[0;34m(\u001b[0m\u001b[0;34m)\u001b[0m\u001b[0;34m\u001b[0m\u001b[0m\n\u001b[0m\u001b[1;32m     12\u001b[0m     \u001b[0merror\u001b[0m \u001b[0;34m=\u001b[0m \u001b[0mpv\u001b[0m \u001b[0;34m-\u001b[0m \u001b[0;36m11.1\u001b[0m\u001b[0;34m\u001b[0m\u001b[0m\n\u001b[1;32m     13\u001b[0m     \u001b[0mthrottle\u001b[0m \u001b[0;34m=\u001b[0m \u001b[0mthrottle_pid\u001b[0m\u001b[0;34m.\u001b[0m\u001b[0mstep\u001b[0m\u001b[0;34m(\u001b[0m\u001b[0merror\u001b[0m\u001b[0;34m,\u001b[0m \u001b[0;36m0.02\u001b[0m\u001b[0;34m)\u001b[0m\u001b[0;34m\u001b[0m\u001b[0m\n",
      "\u001b[0;31mNameError\u001b[0m: name 'get_pv' is not defined"
     ]
    }
   ],
   "source": [
    "%matplotlib inline\n",
    "\n",
    "# Settings for Matplot\n",
    "co = []\n",
    "steps = [i for i in range(1000)]\n",
    "\n",
    "throttle_pid.reset()\n",
    "\n",
    "# Control loop\n",
    "for i in range(1000):\n",
    "    pv = get_pv()\n",
    "    error = pv - 11.1\n",
    "    throttle = throttle_pid.step(error, 0.02)\n",
    "    co.append(throttle)\n",
    "\n",
    "# Plot\n",
    "plt.plot(steps, co)"
   ]
  },
  {
   "cell_type": "code",
   "execution_count": 5,
   "metadata": {},
   "outputs": [],
   "source": [
    "proposed_velocity = (11.1, 0)\n",
    "current_velocity = (0, 0)\n",
    "current_position = (0, 0)"
   ]
  },
  {
   "cell_type": "code",
   "execution_count": 6,
   "metadata": {},
   "outputs": [
    {
     "data": {
      "text/plain": [
       "[<matplotlib.lines.Line2D at 0x7f200690c890>,\n",
       " <matplotlib.lines.Line2D at 0x7f20043cb710>]"
      ]
     },
     "execution_count": 6,
     "metadata": {},
     "output_type": "execute_result"
    },
    {
     "data": {
      "image/png": "[encoded data removed]",
      "text/plain": [
       "<matplotlib.figure.Figure at 0x7f2006943a10>"
      ]
     },
     "metadata": {},
     "output_type": "display_data"
    }
   ],
   "source": [
    "%matplotlib inline\n",
    "import rospy\n",
    "rospy.init_node('seya', log_level=rospy.FATAL)\n",
    "\n",
    "# Settings for Matplot\n",
    "co = []\n",
    "steps = [i for i in range(1000)]\n",
    "\n",
    "# Initialize\n",
    "proposed_velocity = (11.1, 0)\n",
    "current_velocity = (0, 0)\n",
    "current_position = (0, 0)\n",
    "\n",
    "current_velocity = (0, 0)\n",
    "velocity = 0\n",
    "controller.reset()\n",
    "\n",
    "# Control loop\n",
    "for i in range(1000):\n",
    "    proposed_velocity = (11.1, 0)\n",
    "    throttle, brake, steering = controller.control(sample_time = 0.02,\n",
    "                                                        proposed_velocity = proposed_velocity, \n",
    "                                                        current_velocity = current_velocity)\n",
    "    velocity = current_velocity[0] + throttle - brake\n",
    "    current_velocity = (velocity, 0)\n",
    "    co.append(current_velocity)\n",
    "\n",
    "# Plot\n",
    "plt.plot(steps, co)"
   ]
  },
  {
   "cell_type": "code",
   "execution_count": 18,
   "metadata": {},
   "outputs": [],
   "source": [
    "rospy.signal_shutdown('end')"
   ]
  },
  {
   "cell_type": "code",
   "execution_count": 4,
   "metadata": {},
   "outputs": [],
   "source": [
    "import panda as pd"
   ]
  },
  {
   "cell_type": "code",
   "execution_count": 22,
   "metadata": {},
   "outputs": [
    {
     "data": {
      "text/plain": [
       "[<matplotlib.lines.Line2D at 0x10eb5cf98>,\n",
       " <matplotlib.lines.Line2D at 0x10eb64278>]"
      ]
     },
     "execution_count": 22,
     "metadata": {},
     "output_type": "execute_result"
    },
    {
     "data": {
      "image/png": "[encoded data removed]",
      "text/plain": [
       "<matplotlib.figure.Figure at 0x10d7d1080>"
      ]
     },
     "metadata": {},
     "output_type": "display_data"
    }
   ],
   "source": [
    "%matplotlib inline\n",
    "\n",
    "# Settings for Matplot\n",
    "co = []\n",
    "steps = [i for i in range(1000)]\n",
    "\n",
    "# Initialize\n",
    "proposed_velocity = (11.1, 0)\n",
    "current_velocity = (0, 0)\n",
    "current_position = (0, 0)\n",
    "\n",
    "current_velocity = (0, 0)\n",
    "velocity = 0\n",
    "controller.reset()\n",
    "\n",
    "# Control loop\n",
    "for i in range(1000):\n",
    "    proposed_velocity = (11.1, 0)\n",
    "    throttle, brake, steering = controller.control(sample_time = 0.02,\n",
    "                                                        proposed_velocity = proposed_velocity, \n",
    "                                                        current_velocity = current_velocity)\n",
    "    velocity = current_velocity[0] + throttle - brake\n",
    "    current_velocity = (velocity, 0)\n",
    "    co.append(current_velocity)\n",
    "\n",
    "# Plot\n",
    "plt.plot(steps, co)"
   ]
  },
  {
   "cell_type": "code",
   "execution_count": 16,
   "metadata": {},
   "outputs": [
    {
     "ename": "TypeError",
     "evalue": "'instancemethod' object has no attribute '__getitem__'",
     "output_type": "error",
     "traceback": [
      "\u001b[0;31m---------------------------------------------------------------------------\u001b[0m",
      "\u001b[0;31mTypeError\u001b[0m                                 Traceback (most recent call last)",
      "\u001b[0;32m<ipython-input-16-98f651a35b7c>\u001b[0m in \u001b[0;36m<module>\u001b[0;34m()\u001b[0m\n\u001b[1;32m      8\u001b[0m \u001b[0;34m\u001b[0m\u001b[0m\n\u001b[1;32m      9\u001b[0m \u001b[0mdata_frame\u001b[0m\u001b[0;34m\u001b[0m\u001b[0m\n\u001b[0;32m---> 10\u001b[0;31m \u001b[0mdata_frame\u001b[0m\u001b[0;34m.\u001b[0m\u001b[0mto_csv\u001b[0m\u001b[0;34m[\u001b[0m\u001b[0;34m'a.csv'\u001b[0m\u001b[0;34m]\u001b[0m\u001b[0;34m\u001b[0m\u001b[0m\n\u001b[0m",
      "\u001b[0;31mTypeError\u001b[0m: 'instancemethod' object has no attribute '__getitem__'"
     ]
    }
   ],
   "source": [
    "import pandas as pd\n",
    " \n",
    "data_frame = pd.DataFrame(index=[], columns=['column1', 'column2'])\n",
    "series = pd.Series(['hoge', 'fuga'], index=data_frame.columns)\n",
    " \n",
    "for i in range(5):\n",
    "   data_frame = data_frame.append(series, ignore_index = True)\n",
    "     \n",
    "data_frame\n",
    "data_frame.to_csv['a.csv']"
   ]
  },
  {
   "cell_type": "code",
   "execution_count": 3,
   "metadata": {},
   "outputs": [],
   "source": [
    "import pandas as pd\n",
    "df = pd.read_csv['./pid_log.csv']"
   ]
  }
 ],
 "metadata": {
  "anaconda-cloud": {},
  "kernelspec": {
   "display_name": "Python 2",
   "language": "python",
   "name": "python2"
  },
  "language_info": {
   "codemirror_mode": {
    "name": "ipython",
    "version": 2
   },
   "file_extension": ".py",
   "mimetype": "text/x-python",
   "name": "python",
   "nbconvert_exporter": "python",
   "pygments_lexer": "ipython2",
   "version": "2.7.12"
  }
 },
 "nbformat": 4,
 "nbformat_minor": 1
}
