{
 "cells": [
  {
   "cell_type": "code",
   "execution_count": 6,
   "metadata": {},
   "outputs": [],
   "source": [
    "import math\n",
    "\n",
    "from twist_controller import Controller\n",
    "from pid import PID\n",
    "from yaw_controller import YawController\n",
    "from lowpass import LowPassFilter\n",
    "import matplotlib.pyplot as plt\n",
    "import pandas as pd"
   ]
  },
  {
   "cell_type": "code",
   "execution_count": 11,
   "metadata": {},
   "outputs": [],
   "source": [
    "vehicle_mass = 1736.35\n",
    "fuel_capacity = 13.5\n",
    "brake_deadband = .1\n",
    "decel_limit = -5\n",
    "accel_limit = 1.\n",
    "wheel_radius = 0.2413\n",
    "\n",
    "wheel_base = 2.8498\n",
    "steer_ratio = 14.8\n",
    "max_lat_accel = 3.\n",
    "max_steer_angle = 8.\n",
    "min_speed = 0."
   ]
  },
  {
   "cell_type": "code",
   "execution_count": 3,
   "metadata": {},
   "outputs": [],
   "source": [
    "MIN_NUM = float('-inf')\n",
    "MAX_NUM = float('inf')\n",
    "\n",
    "\n",
    "class PID(object):\n",
    "    def __init__(self, kp, ki, kd, mn=MIN_NUM, mx=MAX_NUM):\n",
    "        self.kp = kp\n",
    "        self.ki = ki\n",
    "        self.kd = kd\n",
    "        self.min = mn\n",
    "        self.max = mx\n",
    "\n",
    "        self.int_val = self.last_int_val = self.last_error = 0.\n",
    "\n",
    "    def reset(self):\n",
    "        self.int_val = 0.0\n",
    "        self.last_int_val = 0.0\n",
    "\n",
    "    def step(self, error, sample_time):\n",
    "        self.last_int_val = self.int_val\n",
    "\n",
    "        integral = self.int_val + error * sample_time;\n",
    "        derivative = (error - self.last_error) / sample_time;\n",
    "\n",
    "        y = self.kp * error + self.ki * self.int_val + self.kd * derivative;\n",
    "        val = max(self.min, min(y, self.max))\n",
    "\n",
    "        if val > self.max:\n",
    "            val = self.max\n",
    "        elif val < self.min:\n",
    "            val = self.min\n",
    "        else:\n",
    "            self.int_val = integral\n",
    "        self.last_error = error\n",
    "\n",
    "        return val"
   ]
  },
  {
   "cell_type": "code",
   "execution_count": 4,
   "metadata": {},
   "outputs": [],
   "source": [
    "min_speed = 0\n",
    "throttle_pid = PID(10, 5, 0.005, mn=0, mx=1)\n",
    "brake_pid = PID(10, 5, 0.005, mn=0, mx=1)\n",
    "steering_pid = PID(4, 1, 2, mn=-math.pi/3, mx=math.pi/3)\n",
    "yaw_controller = YawController(wheel_base, steer_ratio, min_speed, max_lat_accel, max_steer_angle)\n",
    "low_pass_filter = LowPassFilter(1, 1)\n",
    "controller = Controller(throttle_controller = throttle_pid,\n",
    "                             brake_controller    = brake_pid,\n",
    "                             steering_controller = yaw_controller,\n",
    "                             steering_adjustment_controller = steering_pid,\n",
    "                             smoothing_filter    = low_pass_filter)"
   ]
  },
  {
   "cell_type": "code",
   "execution_count": 5,
   "metadata": {},
   "outputs": [
    {
     "ename": "NameError",
     "evalue": "name 'get_pv' is not defined",
     "output_type": "error",
     "traceback": [
      "\u001b[0;31m---------------------------------------------------------------------------\u001b[0m",
      "\u001b[0;31mNameError\u001b[0m                                 Traceback (most recent call last)",
      "\u001b[0;32m<ipython-input-5-5c98946998f7>\u001b[0m in \u001b[0;36m<module>\u001b[0;34m()\u001b[0m\n\u001b[1;32m      9\u001b[0m \u001b[0;31m# Control loop\u001b[0m\u001b[0;34m\u001b[0m\u001b[0;34m\u001b[0m\u001b[0m\n\u001b[1;32m     10\u001b[0m \u001b[0;32mfor\u001b[0m \u001b[0mi\u001b[0m \u001b[0;32min\u001b[0m \u001b[0mrange\u001b[0m\u001b[0;34m(\u001b[0m\u001b[0;36m1000\u001b[0m\u001b[0;34m)\u001b[0m\u001b[0;34m:\u001b[0m\u001b[0;34m\u001b[0m\u001b[0m\n\u001b[0;32m---> 11\u001b[0;31m     \u001b[0mpv\u001b[0m \u001b[0;34m=\u001b[0m \u001b[0mget_pv\u001b[0m\u001b[0;34m(\u001b[0m\u001b[0;34m)\u001b[0m\u001b[0;34m\u001b[0m\u001b[0m\n\u001b[0m\u001b[1;32m     12\u001b[0m     \u001b[0merror\u001b[0m \u001b[0;34m=\u001b[0m \u001b[0mpv\u001b[0m \u001b[0;34m-\u001b[0m \u001b[0;36m11.1\u001b[0m\u001b[0;34m\u001b[0m\u001b[0m\n\u001b[1;32m     13\u001b[0m     \u001b[0mthrottle\u001b[0m \u001b[0;34m=\u001b[0m \u001b[0mthrottle_pid\u001b[0m\u001b[0;34m.\u001b[0m\u001b[0mstep\u001b[0m\u001b[0;34m(\u001b[0m\u001b[0merror\u001b[0m\u001b[0;34m,\u001b[0m \u001b[0;36m0.02\u001b[0m\u001b[0;34m)\u001b[0m\u001b[0;34m\u001b[0m\u001b[0m\n",
      "\u001b[0;31mNameError\u001b[0m: name 'get_pv' is not defined"
     ]
    }
   ],
   "source": [
    "%matplotlib inline\n",
    "\n",
    "# Settings for Matplot\n",
    "co = []\n",
    "steps = [i for i in range(1000)]\n",
    "\n",
    "throttle_pid.reset()\n",
    "\n",
    "# Control loop\n",
    "for i in range(1000):\n",
    "    pv = get_pv()\n",
    "    error = pv - 11.1\n",
    "    throttle = throttle_pid.step(error, 0.02)\n",
    "    co.append(throttle)\n",
    "\n",
    "# Plot\n",
    "plt.plot(steps, co)"
   ]
  },
  {
   "cell_type": "code",
   "execution_count": 5,
   "metadata": {},
   "outputs": [],
   "source": [
    "proposed_velocity = (11.1, 0)\n",
    "current_velocity = (0, 0)\n",
    "current_position = (0, 0)"
   ]
  },
  {
   "cell_type": "code",
   "execution_count": 6,
   "metadata": {},
   "outputs": [
    {
     "data": {
      "text/plain": [
       "[<matplotlib.lines.Line2D at 0x7f200690c890>,\n",
       " <matplotlib.lines.Line2D at 0x7f20043cb710>]"
      ]
     },
     "execution_count": 6,
     "metadata": {},
     "output_type": "execute_result"
    },
    {
     "data": {
      "image/png": "[encoded data removed]",
      "text/plain": [
       "<matplotlib.figure.Figure at 0x7f2006943a10>"
      ]
     },
     "metadata": {},
     "output_type": "display_data"
    }
   ],
   "source": [
    "%matplotlib inline\n",
    "import rospy\n",
    "rospy.init_node('seya', log_level=rospy.FATAL)\n",
    "\n",
    "# Settings for Matplot\n",
    "co = []\n",
    "steps = [i for i in range(1000)]\n",
    "\n",
    "# Initialize\n",
    "proposed_velocity = (11.1, 0)\n",
    "current_velocity = (0, 0)\n",
    "current_position = (0, 0)\n",
    "\n",
    "current_velocity = (0, 0)\n",
    "velocity = 0\n",
    "controller.reset()\n",
    "\n",
    "# Control loop\n",
    "for i in range(1000):\n",
    "    proposed_velocity = (11.1, 0)\n",
    "    throttle, brake, steering = controller.control(sample_time = 0.02,\n",
    "                                                        proposed_velocity = proposed_velocity, \n",
    "                                                        current_velocity = current_velocity)\n",
    "    velocity = current_velocity[0] + throttle - brake\n",
    "    current_velocity = (velocity, 0)\n",
    "    co.append(current_velocity)\n",
    "\n",
    "# Plot\n",
    "plt.plot(steps, co)"
   ]
  },
  {
   "cell_type": "code",
   "execution_count": 18,
   "metadata": {},
   "outputs": [],
   "source": [
    "rospy.signal_shutdown('end')"
   ]
  },
  {
   "cell_type": "code",
   "execution_count": 4,
   "metadata": {},
   "outputs": [],
   "source": [
    "import panda as pd"
   ]
  },
  {
   "cell_type": "code",
   "execution_count": 22,
   "metadata": {},
   "outputs": [
    {
     "data": {
      "text/plain": [
       "[<matplotlib.lines.Line2D at 0x10eb5cf98>,\n",
       " <matplotlib.lines.Line2D at 0x10eb64278>]"
      ]
     },
     "execution_count": 22,
     "metadata": {},
     "output_type": "execute_result"
    },
    {
     "data": {
      "image/png": "[encoded data removed]",
      "text/plain": [
       "<matplotlib.figure.Figure at 0x10d7d1080>"
      ]
     },
     "metadata": {},
     "output_type": "display_data"
    }
   ],
   "source": [
    "%matplotlib inline\n",
    "\n",
    "# Settings for Matplot\n",
    "co = []\n",
    "steps = [i for i in range(1000)]\n",
    "\n",
    "# Initialize\n",
    "proposed_velocity = (11.1, 0)\n",
    "current_velocity = (0, 0)\n",
    "current_position = (0, 0)\n",
    "\n",
    "current_velocity = (0, 0)\n",
    "velocity = 0\n",
    "controller.reset()\n",
    "\n",
    "# Control loop\n",
    "for i in range(1000):\n",
    "    proposed_velocity = (11.1, 0)\n",
    "    throttle, brake, steering = controller.control(sample_time = 0.02,\n",
    "                                                        proposed_velocity = proposed_velocity, \n",
    "                                                        current_velocity = current_velocity)\n",
    "    velocity = current_velocity[0] + throttle - brake\n",
    "    current_velocity = (velocity, 0)\n",
    "    co.append(current_velocity)\n",
    "\n",
    "# Plot\n",
    "plt.plot(steps, co)"
   ]
  },
  {
   "cell_type": "code",
   "execution_count": 2,
   "metadata": {},
   "outputs": [],
   "source": [
    "import pandas as pd\n",
    " \n",
    "data_frame = pd.DataFrame(index=[], columns=['column1', 'column2'])\n",
    "series = pd.Series(['hoge', 'fuga'], index=data_frame.columns)\n",
    " \n",
    "for i in range(5):\n",
    "   data_frame = data_frame.append(series, ignore_index = True)\n",
    "     \n",
    "data_frame\n",
    "data_frame.to_csv('a.csv')"
   ]
  },
  {
   "cell_type": "code",
   "execution_count": 203,
   "metadata": {},
   "outputs": [],
   "source": [
    "import pandas as pd\n",
    "df = pd.read_csv('pid_log.csv')"
   ]
  },
  {
   "cell_type": "code",
   "execution_count": 208,
   "metadata": {},
   "outputs": [
    {
     "data": {
      "text/plain": [
       "[<matplotlib.lines.Line2D at 0x7fe61d893a10>]"
      ]
     },
     "execution_count": 208,
     "metadata": {},
     "output_type": "execute_result"
    },
    {
     "data": {
      "image/png": "[encoded data removed]",
      "text/plain": [
       "<matplotlib.figure.Figure at 0x7fe61d971110>"
      ]
     },
     "metadata": {},
     "output_type": "display_data"
    }
   ],
   "source": [
    "%matplotlib inline\n",
    "\n",
    "# Plot\n",
    "plt.plot(df['time'], df['current'])"
   ]
  },
  {
   "cell_type": "code",
   "execution_count": 209,
   "metadata": {
    "scrolled": true
   },
   "outputs": [
    {
     "data": {
      "text/plain": [
       "[<matplotlib.lines.Line2D at 0x7fe61d7d7b50>]"
      ]
     },
     "execution_count": 209,
     "metadata": {},
     "output_type": "execute_result"
    },
    {
     "data": {
      "image/png": "[encoded data removed]",
      "text/plain": [
       "<matplotlib.figure.Figure at 0x7fe61d8ac950>"
      ]
     },
     "metadata": {},
     "output_type": "display_data"
    }
   ],
   "source": [
    "plt.plot(df['time'], df['throttle'], linewidth=1, color=\"red\", marker=\"D\")"
   ]
  },
  {
   "cell_type": "code",
   "execution_count": 210,
   "metadata": {
    "scrolled": true
   },
   "outputs": [
    {
     "data": {
      "text/plain": [
       "[<matplotlib.lines.Line2D at 0x7fe61d713d90>]"
      ]
     },
     "execution_count": 210,
     "metadata": {},
     "output_type": "execute_result"
    },
    {
     "data": {
      "image/png": "[encoded data removed]",
      "text/plain": [
       "<matplotlib.figure.Figure at 0x7fe61d971d50>"
      ]
     },
     "metadata": {},
     "output_type": "display_data"
    }
   ],
   "source": [
    "plt.plot(df['time'], df['brake'], linewidth=1, color=\"red\", marker=\"D\")"
   ]
  },
  {
   "cell_type": "code",
   "execution_count": 211,
   "metadata": {},
   "outputs": [
    {
     "data": {
      "text/plain": [
       "[<matplotlib.lines.Line2D at 0x7fe61d65c790>]"
      ]
     },
     "execution_count": 211,
     "metadata": {},
     "output_type": "execute_result"
    },
    {
     "data": {
      "image/png": "[encoded data removed]",
      "text/plain": [
       "<matplotlib.figure.Figure at 0x7fe61d730110>"
      ]
     },
     "metadata": {},
     "output_type": "display_data"
    }
   ],
   "source": [
    "plt.plot(df['time'], df['throttle'], linewidth=1, color=\"red\", marker=\"D\")"
   ]
  },
  {
   "cell_type": "code",
   "execution_count": 212,
   "metadata": {
    "scrolled": false
   },
   "outputs": [
    {
     "data": {
      "text/plain": [
       "[<matplotlib.lines.Line2D at 0x7fe61d596850>]"
      ]
     },
     "execution_count": 212,
     "metadata": {},
     "output_type": "execute_result"
    },
    {
     "data": {
      "image/png": "[encoded data removed]",
      "text/plain": [
       "<matplotlib.figure.Figure at 0x7fe61d8acc90>"
      ]
     },
     "metadata": {},
     "output_type": "display_data"
    }
   ],
   "source": [
    "plt.plot(df['time'], df['proposed'])"
   ]
  },
  {
   "cell_type": "code",
   "execution_count": 201,
   "metadata": {
    "scrolled": true
   },
   "outputs": [
    {
     "data": {
      "text/plain": [
       "[<matplotlib.lines.Line2D at 0x7fe61dba3ed0>]"
      ]
     },
     "execution_count": 201,
     "metadata": {},
     "output_type": "execute_result"
    },
    {
     "data": {
      "image/png": "[encoded data removed]",
      "text/plain": [
       "<matplotlib.figure.Figure at 0x7fe61dc1bcd0>"
      ]
     },
     "metadata": {},
     "output_type": "display_data"
    }
   ],
   "source": [
    "plt.plot(df['time'], df['current'])"
   ]
  },
  {
   "cell_type": "code",
   "execution_count": 202,
   "metadata": {},
   "outputs": [
    {
     "data": {
      "text/plain": [
       "[<matplotlib.lines.Line2D at 0x7fe61dad9150>]"
      ]
     },
     "execution_count": 202,
     "metadata": {},
     "output_type": "execute_result"
    },
    {
     "data": {
      "image/png": "[encoded data removed]",
      "text/plain": [
       "<matplotlib.figure.Figure at 0x7fe61dbdf990>"
      ]
     },
     "metadata": {},
     "output_type": "display_data"
    }
   ],
   "source": [
    "plt.plot(df['time'], df['proposed'] - df['current'])"
   ]
  },
  {
   "cell_type": "code",
   "execution_count": 229,
   "metadata": {},
   "outputs": [
    {
     "name": "stdout",
     "output_type": "stream",
     "text": [
      "('index:{} value:{}', 6, 0.15960400895999999)\n",
      "('index:{} value:{}', 7, 0.50347209439999996)\n",
      "('index:{} value:{}', 8, 0.50347209439999996)\n",
      "('index:{} value:{}', 9, 0.50347209439999996)\n",
      "('index:{} value:{}', 10, 0.52434752127999995)\n",
      "('index:{} value:{}', 11, 0.52293800416000003)\n",
      "('index:{} value:{}', 12, 0.52141896223999995)\n",
      "('index:{} value:{}', 13, 0.52141896223999995)\n",
      "('index:{} value:{}', 14, 0.52141896223999995)\n",
      "('index:{} value:{}', 15, 0.52141896223999995)\n",
      "('index:{} value:{}', 16, 0.71427917088000004)\n",
      "('index:{} value:{}', 17, 1.0468290976000001)\n",
      "('index:{} value:{}', 18, 1.0468290976000001)\n",
      "('index:{} value:{}', 19, 1.0468290976000001)\n",
      "('index:{} value:{}', 20, 1.0525883139200001)\n",
      "('index:{} value:{}', 21, 1.04762751104)\n",
      "('index:{} value:{}', 22, 1.0451611913600001)\n",
      "('index:{} value:{}', 23, 1.0451611913600001)\n",
      "('index:{} value:{}', 24, 1.0451611913600001)\n",
      "('index:{} value:{}', 25, 1.0451611913600001)\n",
      "('index:{} value:{}', 26, 1.0451611913600001)\n",
      "('index:{} value:{}', 27, 1.0326141196800001)\n",
      "('index:{} value:{}', 28, 1.0326141196800001)\n",
      "('index:{} value:{}', 29, 1.0277463011200001)\n",
      "('index:{} value:{}', 30, 1.0253211091200001)\n",
      "('index:{} value:{}', 31, 1.1177224889599999)\n",
      "('index:{} value:{}', 32, 1.1288663020799998)\n",
      "('index:{} value:{}', 33, 1.1288663020799998)\n",
      "('index:{} value:{}', 34, 1.1288663020799998)\n",
      "('index:{} value:{}', 35, 1.1288663020799998)\n",
      "('index:{} value:{}', 36, 1.12282187424)\n",
      "('index:{} value:{}', 37, 1.1148672444800001)\n",
      "('index:{} value:{}', 38, 1.1148672444800001)\n",
      "('index:{} value:{}', 39, 1.1148672444800001)\n",
      "('index:{} value:{}', 40, 1.1091411091200001)\n",
      "('index:{} value:{}', 41, 1.10390090624)\n",
      "('index:{} value:{}', 42, 1.19498396512)\n",
      "('index:{} value:{}', 43, 1.19498396512)\n",
      "('index:{} value:{}', 44, 1.19498396512)\n",
      "('index:{} value:{}', 45, 1.19498396512)\n",
      "('index:{} value:{}', 46, 1.2041983536)\n",
      "('index:{} value:{}', 47, 1.1957792492799999)\n",
      "('index:{} value:{}', 48, 1.1957792492799999)\n",
      "('index:{} value:{}', 49, 1.1957792492799999)\n",
      "('index:{} value:{}', 50, 1.1873574627200001)\n",
      "('index:{} value:{}', 51, 1.1846104019200001)\n",
      "('index:{} value:{}', 52, 1.18175962784)\n",
      "('index:{} value:{}', 53, 1.18175962784)\n",
      "('index:{} value:{}', 54, 1.18175962784)\n",
      "('index:{} value:{}', 55, 1.18175962784)\n",
      "('index:{} value:{}', 56, 1.1706189440000001)\n",
      "('index:{} value:{}', 57, 1.1679009408000001)\n",
      "('index:{} value:{}', 58, 1.1679009408000001)\n",
      "('index:{} value:{}', 59, 1.3643280815999999)\n",
      "('index:{} value:{}', 60, 1.4705219865600001)\n",
      "('index:{} value:{}', 61, 1.48251159936)\n",
      "('index:{} value:{}', 62, 1.4788038496)\n",
      "('index:{} value:{}', 63, 1.4788038496)\n",
      "('index:{} value:{}', 64, 1.4788038496)\n",
      "('index:{} value:{}', 65, 1.7778373993599998)\n",
      "('index:{} value:{}', 66, 1.8822547673599996)\n",
      "('index:{} value:{}', 67, 1.9859881641599997)\n",
      "('index:{} value:{}', 68, 1.9859881641599997)\n",
      "('index:{} value:{}', 69, 1.9859881641599997)\n",
      "('index:{} value:{}', 70, 1.9859881641599997)\n",
      "('index:{} value:{}', 71, 1.98702708512)\n",
      "('index:{} value:{}', 72, 1.9826724684799999)\n",
      "('index:{} value:{}', 73, 1.9826724684799999)\n",
      "('index:{} value:{}', 74, 1.9826724684799999)\n",
      "('index:{} value:{}', 75, 1.9732448419199999)\n",
      "('index:{} value:{}', 76, 1.96440194368)\n",
      "('index:{} value:{}', 77, 1.9600504563200001)\n",
      "('index:{} value:{}', 78, 1.9600504563200001)\n",
      "('index:{} value:{}', 79, 1.9600504563200001)\n",
      "('index:{} value:{}', 80, 1.9449257519999998)\n",
      "('index:{} value:{}', 81, 1.9404946915200001)\n",
      "('index:{} value:{}', 82, 2.0262414339200001)\n",
      "('index:{} value:{}', 83, 2.0262414339200001)\n",
      "('index:{} value:{}', 84, 2.0262414339200001)\n",
      "('index:{} value:{}', 85, 2.0262414339200001)\n",
      "('index:{} value:{}', 86, 2.0273715510399999)\n",
      "('index:{} value:{}', 87, 2.0229324438399998)\n",
      "('index:{} value:{}', 88, 2.0229324438399998)\n",
      "('index:{} value:{}', 89, 2.0229324438399998)\n",
      "('index:{} value:{}', 90, 2.0086897494400002)\n",
      "('index:{} value:{}', 91, 1.99977487776)\n",
      "('index:{} value:{}', 92, 1.99977487776)\n",
      "('index:{} value:{}', 93, 1.99977487776)\n",
      "('index:{} value:{}', 94, 1.99977487776)\n",
      "('index:{} value:{}', 95, 1.98536364928)\n",
      "('index:{} value:{}', 96, 1.9809133660799998)\n",
      "('index:{} value:{}', 97, 2.0663467334400001)\n",
      "('index:{} value:{}', 98, 2.0663467334400001)\n",
      "('index:{} value:{}', 99, 2.0765070585599998)\n",
      "('index:{} value:{}', 100, 2.0719620028799999)\n",
      "('index:{} value:{}', 101, 2.06742633504)\n",
      "('index:{} value:{}', 102, 2.1520733590400001)\n",
      "('index:{} value:{}', 103, 2.1520733590400001)\n",
      "('index:{} value:{}', 104, 2.1520733590400001)\n",
      "('index:{} value:{}', 105, 2.46145007328)\n",
      "('index:{} value:{}', 106, 2.4786521724799999)\n",
      "('index:{} value:{}', 107, 2.4731660976000001)\n",
      "('index:{} value:{}', 108, 2.4731660976000001)\n",
      "('index:{} value:{}', 109, 2.4731660976000001)\n",
      "('index:{} value:{}', 110, 2.4571321139200002)\n",
      "('index:{} value:{}', 111, 2.4518168083200003)\n",
      "('index:{} value:{}', 112, 2.44649256192)\n",
      "('index:{} value:{}', 113, 2.44649256192)\n",
      "('index:{} value:{}', 114, 2.44649256192)\n",
      "('index:{} value:{}', 115, 2.7325132243199999)\n",
      "('index:{} value:{}', 116, 2.85418410112)\n",
      "('index:{} value:{}', 117, 2.85418410112)\n",
      "('index:{} value:{}', 118, 2.85418410112)\n",
      "('index:{} value:{}', 119, 3.0322562265599995)\n",
      "('index:{} value:{}', 120, 3.1339216163200003)\n",
      "('index:{} value:{}', 121, 3.2347398652799999)\n",
      "('index:{} value:{}', 122, 3.33570787264)\n",
      "('index:{} value:{}', 123, 3.33570787264)\n",
      "('index:{} value:{}', 124, 3.33570787264)\n",
      "('index:{} value:{}', 125, 3.3492630195200004)\n",
      "('index:{} value:{}', 126, 3.3346032368)\n",
      "('index:{} value:{}', 127, 3.3274063398400004)\n",
      "('index:{} value:{}', 128, 3.3274063398400004)\n",
      "('index:{} value:{}', 129, 3.3107040313599998)\n",
      "('index:{} value:{}', 130, 3.2957483081599999)\n",
      "('index:{} value:{}', 131, 3.2957483081599999)\n",
      "('index:{} value:{}', 132, 3.28862919616)\n",
      "('index:{} value:{}', 133, 3.28862919616)\n",
      "('index:{} value:{}', 134, 3.28862919616)\n",
      "('index:{} value:{}', 135, 3.2724642297600002)\n",
      "('index:{} value:{}', 136, 3.2577709190400004)\n",
      "('index:{} value:{}', 137, 3.2505373648)\n",
      "('index:{} value:{}', 138, 3.2505373648)\n",
      "('index:{} value:{}', 139, 3.2366773366400001)\n",
      "('index:{} value:{}', 140, 3.2297844268799998)\n",
      "('index:{} value:{}', 141, 3.2229085046399999)\n",
      "('index:{} value:{}', 142, 3.2156190704000003)\n",
      "('index:{} value:{}', 143, 3.2156190704000003)\n",
      "('index:{} value:{}', 144, 3.2156190704000003)\n",
      "('index:{} value:{}', 145, 3.2156190704000003)\n",
      "('index:{} value:{}', 146, 3.5923173263999999)\n",
      "('index:{} value:{}', 147, 3.6930305209599994)\n",
      "('index:{} value:{}', 148, 3.6930305209599994)\n",
      "('index:{} value:{}', 149, 3.6930305209599994)\n",
      "('index:{} value:{}', 150, 3.6998304464)\n",
      "('index:{} value:{}', 151, 3.6918820751999997)\n",
      "('index:{} value:{}', 152, 3.6840311587199999)\n",
      "('index:{} value:{}', 153, 3.6840311587199999)\n",
      "('index:{} value:{}', 154, 3.6840311587199999)\n",
      "('index:{} value:{}', 155, 3.6840311587199999)\n",
      "('index:{} value:{}', 156, 3.65204589376)\n",
      "('index:{} value:{}', 157, 3.6442454927999997)\n",
      "('index:{} value:{}', 158, 3.6442454927999997)\n",
      "('index:{} value:{}', 159, 3.6442454927999997)\n",
      "('index:{} value:{}', 160, 3.6282875059199995)\n",
      "('index:{} value:{}', 161, 3.6127551011199999)\n",
      "('index:{} value:{}', 162, 3.6041218646399997)\n",
      "('index:{} value:{}', 163, 3.6041218646399997)\n",
      "('index:{} value:{}', 164, 3.6041218646399997)\n",
      "('index:{} value:{}', 165, 3.6041218646399997)\n",
      "('index:{} value:{}', 166, 3.6041218646399997)\n",
      "('index:{} value:{}', 167, 3.5659187203199996)\n",
      "('index:{} value:{}', 168, 3.5659187203199996)\n",
      "('index:{} value:{}', 169, 3.5659187203199996)\n",
      "('index:{} value:{}', 170, 3.5440177836800002)\n",
      "('index:{} value:{}', 171, 3.5355682806400002)\n",
      "('index:{} value:{}', 172, 3.5275720761599998)\n",
      "('index:{} value:{}', 173, 3.5275720761599998)\n",
      "('index:{} value:{}', 174, 3.5275720761599998)\n",
      "('index:{} value:{}', 175, 3.5275720761599998)\n",
      "('index:{} value:{}', 176, 3.4958483295999998)\n",
      "('index:{} value:{}', 177, 3.4884399827199997)\n",
      "('index:{} value:{}', 178, 3.4884399827199997)\n",
      "('index:{} value:{}', 179, 3.4884399827199997)\n",
      "('index:{} value:{}', 180, 3.4733966396800007)\n",
      "('index:{} value:{}', 181, 3.4588816979199999)\n",
      "('index:{} value:{}', 182, 3.4509632783999997)\n",
      "('index:{} value:{}', 183, 3.4509632783999997)\n",
      "('index:{} value:{}', 184, 3.4509632783999997)\n",
      "('index:{} value:{}', 185, 3.4509632783999997)\n",
      "('index:{} value:{}', 186, 3.42253287552)\n",
      "('index:{} value:{}', 187, 3.41547634912)\n",
      "('index:{} value:{}', 188, 3.41547634912)\n",
      "('index:{} value:{}', 189, 3.41547634912)\n",
      "('index:{} value:{}', 190, 3.3905176588799999)\n",
      "('index:{} value:{}', 191, 3.3741689590400004)\n",
      "('index:{} value:{}', 192, 3.3741689590400004)\n",
      "('index:{} value:{}', 193, 3.3741689590400004)\n",
      "('index:{} value:{}', 194, 3.3741689590400004)\n",
      "('index:{} value:{}', 195, 3.3741689590400004)\n",
      "('index:{} value:{}', 196, 3.3741689590400004)\n",
      "('index:{} value:{}', 197, 3.3367315942400002)\n",
      "('index:{} value:{}', 198, 3.3367315942400002)\n",
      "('index:{} value:{}', 199, 3.3367315942400002)\n",
      "('index:{} value:{}', 200, 3.2800527337599998)\n",
      "('index:{} value:{}', 201, 3.2600825628800001)\n",
      "('index:{} value:{}', 202, 3.2401463670399999)\n",
      "('index:{} value:{}', 203, 3.2401463670399999)\n",
      "('index:{} value:{}', 204, 3.2401463670399999)\n",
      "('index:{} value:{}', 205, 3.2401463670399999)\n",
      "('index:{} value:{}', 206, 3.3683315107200005)\n",
      "('index:{} value:{}', 207, 3.46557969824)\n",
      "('index:{} value:{}', 208, 3.46557969824)\n",
      "('index:{} value:{}', 209, 3.46557969824)\n",
      "('index:{} value:{}', 210, 3.46550280736)\n",
      "('index:{} value:{}', 211, 3.4512163030400003)\n",
      "('index:{} value:{}', 212, 3.4441928576)\n",
      "('index:{} value:{}', 213, 3.4441928576)\n",
      "('index:{} value:{}', 214, 3.4441928576)\n",
      "('index:{} value:{}', 215, 3.4441928576)\n",
      "('index:{} value:{}', 216, 3.2987220182399999)\n",
      "('index:{} value:{}', 217, 3.2987220182399999)\n",
      "('index:{} value:{}', 218, 3.2987220182399999)\n",
      "('index:{} value:{}', 219, 3.2690564438399998)\n",
      "('index:{} value:{}', 220, 3.21048749824)\n",
      "('index:{} value:{}', 221, 3.1515394627200002)\n",
      "('index:{} value:{}', 222, 3.0848071196799998)\n",
      "('index:{} value:{}', 223, 3.0848071196799998)\n",
      "('index:{} value:{}', 224, 3.0848071196799998)\n",
      "('index:{} value:{}', 225, 3.0848071196799998)\n",
      "('index:{} value:{}', 226, 2.9799516524799996)\n",
      "('index:{} value:{}', 227, 2.82840151616)\n",
      "('index:{} value:{}', 228, 2.82840151616)\n",
      "('index:{} value:{}', 229, 2.82840151616)\n",
      "('index:{} value:{}', 230, 2.8018880207999999)\n",
      "('index:{} value:{}', 231, 2.7962030131200004)\n",
      "('index:{} value:{}', 232, 2.7504390812800001)\n",
      "('index:{} value:{}', 233, 2.7504390812800001)\n",
      "('index:{} value:{}', 234, 2.7504390812800001)\n",
      "('index:{} value:{}', 235, 2.7504390812800001)\n",
      "('index:{} value:{}', 236, 2.5445905724799998)\n",
      "('index:{} value:{}', 237, 2.4989889161600001)\n",
      "('index:{} value:{}', 238, 2.4989889161600001)\n",
      "('index:{} value:{}', 239, 2.4989889161600001)\n",
      "('index:{} value:{}', 240, 2.4414186579199999)\n",
      "('index:{} value:{}', 241, 2.42447718304)\n",
      "('index:{} value:{}', 242, 2.3911481158400001)\n",
      "('index:{} value:{}', 243, 2.3911481158400001)\n",
      "('index:{} value:{}', 244, 2.3911481158400001)\n",
      "('index:{} value:{}', 245, 2.3078703753599998)\n",
      "('index:{} value:{}', 246, 2.2808155145599995)\n",
      "('index:{} value:{}', 247, 2.2574813676800001)\n",
      "('index:{} value:{}', 248, 2.2574813676800001)\n",
      "('index:{} value:{}', 249, 2.2320161811200001)\n",
      "('index:{} value:{}', 250, 2.22035871904)\n",
      "('index:{} value:{}', 251, 2.2136598246400001)\n",
      "('index:{} value:{}', 252, 2.2082676281599998)\n",
      "('index:{} value:{}', 253, 2.2082676281599998)\n",
      "('index:{} value:{}', 254, 2.2082676281599998)\n",
      "('index:{} value:{}', 255, 2.2082676281599998)\n",
      "('index:{} value:{}', 256, 2.1899425644799999)\n",
      "('index:{} value:{}', 257, 2.18551776256)\n",
      "('index:{} value:{}', 258, 2.18551776256)\n",
      "('index:{} value:{}', 259, 2.18551776256)\n",
      "('index:{} value:{}', 260, 2.18551776256)\n",
      "('index:{} value:{}', 261, 2.1679388086400002)\n",
      "('index:{} value:{}', 262, 2.1635694396799998)\n",
      "('index:{} value:{}', 263, 2.1635694396799998)\n",
      "('index:{} value:{}', 264, 2.1635694396799998)\n",
      "('index:{} value:{}', 265, 2.1525534799999999)\n",
      "('index:{} value:{}', 266, 2.14324789536)\n",
      "('index:{} value:{}', 267, 2.1387940358400002)\n",
      "('index:{} value:{}', 268, 2.1387940358400002)\n",
      "('index:{} value:{}', 269, 2.0402136691199999)\n",
      "('index:{} value:{}', 270, 1.9365482224000001)\n",
      "('index:{} value:{}', 271, 1.8959104982399999)\n",
      "('index:{} value:{}', 272, 1.8959104982399999)\n",
      "('index:{} value:{}', 273, 1.8959104982399999)\n",
      "('index:{} value:{}', 274, 1.8959104982399999)\n",
      "('index:{} value:{}', 275, 1.8576085580799999)\n",
      "('index:{} value:{}', 276, 1.74253822688)\n",
      "('index:{} value:{}', 277, 1.7218800614400003)\n",
      "('index:{} value:{}', 278, 1.7218800614400003)\n",
      "('index:{} value:{}', 279, 1.7218800614400003)\n",
      "('index:{} value:{}', 280, 1.9136043414400001)\n",
      "('index:{} value:{}', 281, 2.1221708534400001)\n",
      "('index:{} value:{}', 282, 2.0847446646400001)\n",
      "('index:{} value:{}', 283, 2.0847446646400001)\n",
      "('index:{} value:{}', 284, 2.0847446646400001)\n",
      "('index:{} value:{}', 285, 1.9919507836800001)\n",
      "('index:{} value:{}', 286, 1.98790373056)\n",
      "('index:{} value:{}', 287, 1.8941621247999998)\n",
      "('index:{} value:{}', 288, 1.8941621247999998)\n",
      "('index:{} value:{}', 289, 1.8941621247999998)\n",
      "('index:{} value:{}', 290, 1.5126447775999998)\n",
      "('index:{} value:{}', 291, 1.3861351398399999)\n",
      "('index:{} value:{}', 292, 1.2599773225599999)\n",
      "('index:{} value:{}', 293, 1.2599773225599999)\n",
      "('index:{} value:{}', 294, 1.2599773225599999)\n",
      "('index:{} value:{}', 295, 1.2599773225599999)\n",
      "('index:{} value:{}', 296, 0.75849589728)\n",
      "('index:{} value:{}', 297, 0.63416513248000006)\n",
      "('index:{} value:{}', 298, 0.63416513248000006)\n",
      "('index:{} value:{}', 299, 0.386542926176)\n",
      "('index:{} value:{}', 300, 0.26053723660799999)\n",
      "('index:{} value:{}', 301, 0.24993697942400001)\n",
      "('index:{} value:{}', 302, 0.21521556144000001)\n",
      "('index:{} value:{}', 303, 0.21521556144000001)\n",
      "('index:{} value:{}', 304, 0.21521556144000001)\n",
      "('index:{} value:{}', 305, 0.21521556144000001)\n",
      "('index:{} value:{}', 868, 0.28475853436799997)\n",
      "('index:{} value:{}', 869, 0.38897880243199995)\n",
      "('index:{} value:{}', 870, 0.50408632736000003)\n",
      "('index:{} value:{}', 871, 0.50408632736000003)\n",
      "('index:{} value:{}', 872, 0.50408632736000003)\n",
      "('index:{} value:{}', 873, 0.50408632736000003)\n",
      "('index:{} value:{}', 874, 0.50408632736000003)\n",
      "('index:{} value:{}', 875, 0.52492420288000008)\n",
      "('index:{} value:{}', 876, 0.52492420288000008)\n",
      "('index:{} value:{}', 877, 0.52177391200000001)\n",
      "('index:{} value:{}', 878, 0.52066167648000006)\n",
      "('index:{} value:{}', 879, 0.51959861536000007)\n",
      "('index:{} value:{}', 880, 0.51959861536000007)\n",
      "('index:{} value:{}', 881, 0.51959861536000007)\n",
      "('index:{} value:{}', 882, 0.51959861536000007)\n",
      "('index:{} value:{}', 883, 0.51959861536000007)\n",
      "('index:{} value:{}', 884, 0.51824855455999996)\n",
      "('index:{} value:{}', 885, 0.51396278208000001)\n",
      "('index:{} value:{}', 886, 0.51396278208000001)\n",
      "('index:{} value:{}', 887, 0.51187242304000002)\n",
      "('index:{} value:{}', 888, 0.50981648608000008)\n",
      "('index:{} value:{}', 889, 0.50875878943999997)\n",
      "('index:{} value:{}', 890, 0.50875878943999997)\n",
      "('index:{} value:{}', 891, 0.50875878943999997)\n",
      "('index:{} value:{}', 892, 0.50875878943999997)\n",
      "('index:{} value:{}', 893, 0.50467373791999992)\n",
      "('index:{} value:{}', 894, 0.50365716896000001)\n",
      "('index:{} value:{}', 895, 0.50365716896000001)\n",
      "('index:{} value:{}', 896, 0.50365716896000001)\n",
      "('index:{} value:{}', 897, 0.50160704351999996)\n",
      "('index:{} value:{}', 898, 0.49958597568000002)\n",
      "('index:{} value:{}', 899, 0.49844512960000004)\n",
      "('index:{} value:{}', 900, 0.49844512960000004)\n",
      "('index:{} value:{}', 901, 0.49844512960000004)\n",
      "('index:{} value:{}', 902, 0.49844512960000004)\n",
      "('index:{} value:{}', 903, 0.49844512960000004)\n",
      "('index:{} value:{}', 904, 0.49440120576000007)\n",
      "('index:{} value:{}', 905, 0.49340475359999997)\n",
      "('index:{} value:{}', 906, 0.49340475359999997)\n",
      "('index:{} value:{}', 907, 0.49340475359999997)\n",
      "('index:{} value:{}', 908, 0.49020305312000001)\n",
      "('index:{} value:{}', 909, 0.48921196544000001)\n",
      "('index:{} value:{}', 910, 0.48811358816000006)\n",
      "('index:{} value:{}', 911, 0.48811358816000006)\n",
      "('index:{} value:{}', 912, 0.48811358816000006)\n",
      "('index:{} value:{}', 913, 0.48592443328000001)\n",
      "('index:{} value:{}', 914, 0.48296949888000001)\n",
      "('index:{} value:{}', 915, 0.48296949888000001)\n",
      "('index:{} value:{}', 916, 0.48296949888000001)\n",
      "('index:{} value:{}', 917, 0.48102755711999995)\n",
      "('index:{} value:{}', 918, 0.47909500319999998)\n",
      "('index:{} value:{}', 919, 0.57078693056000007)\n",
      "('index:{} value:{}', 920, 0.57078693056000007)\n",
      "('index:{} value:{}', 921, 0.57078693056000007)\n",
      "('index:{} value:{}', 922, 0.57078693056000007)\n",
      "('index:{} value:{}', 923, 0.57078693056000007)\n",
      "('index:{} value:{}', 924, 0.58367554079999995)\n",
      "('index:{} value:{}', 925, 0.58132768672000001)\n",
      "('index:{} value:{}', 926, 0.58132768672000001)\n",
      "('index:{} value:{}', 927, 0.77903023263999993)\n",
      "('index:{} value:{}', 928, 1.0019887504)\n",
      "('index:{} value:{}', 929, 1.11076162912)\n",
      "('index:{} value:{}', 930, 1.11076162912)\n",
      "('index:{} value:{}', 931, 1.11076162912)\n",
      "('index:{} value:{}', 932, 1.11076162912)\n",
      "('index:{} value:{}', 933, 1.1104956403200001)\n",
      "('index:{} value:{}', 934, 1.10828413344)\n",
      "('index:{} value:{}', 935, 1.1060766499200001)\n",
      "('index:{} value:{}', 936, 1.1060766499200001)\n",
      "('index:{} value:{}', 937, 1.1060766499200001)\n",
      "('index:{} value:{}', 938, 1.0990447107200001)\n",
      "('index:{} value:{}', 939, 1.0968215807999999)\n",
      "('index:{} value:{}', 940, 1.0943315679999999)\n",
      "('index:{} value:{}', 941, 1.0943315679999999)\n",
      "('index:{} value:{}', 942, 1.0943315679999999)\n",
      "('index:{} value:{}', 943, 1.0943315679999999)\n",
      "('index:{} value:{}', 944, 1.0943315679999999)\n",
      "('index:{} value:{}', 945, 1.0849200348799999)\n",
      "('index:{} value:{}', 946, 1.0827188099200002)\n",
      "('index:{} value:{}', 947, 1.0783480998399999)\n",
      "('index:{} value:{}', 948, 1.0740033180799999)\n",
      "('index:{} value:{}', 949, 1.07084900384)\n",
      "('index:{} value:{}', 950, 1.07084900384)\n",
      "('index:{} value:{}', 951, 1.07084900384)\n",
      "('index:{} value:{}', 952, 1.07084900384)\n",
      "('index:{} value:{}', 953, 1.07084900384)\n",
      "('index:{} value:{}', 954, 1.16276400416)\n",
      "('index:{} value:{}', 955, 1.5870952662399997)\n",
      "('index:{} value:{}', 956, 1.5870952662399997)\n",
      "('index:{} value:{}', 957, 1.5959408467200003)\n",
      "('index:{} value:{}', 958, 1.5893058790399999)\n",
      "('index:{} value:{}', 959, 1.67841570336)\n",
      "('index:{} value:{}', 960, 1.67841570336)\n",
      "('index:{} value:{}', 961, 1.67841570336)\n",
      "('index:{} value:{}', 962, 1.67841570336)\n",
      "('index:{} value:{}', 963, 1.67841570336)\n",
      "('index:{} value:{}', 964, 1.67841570336)\n",
      "('index:{} value:{}', 965, 1.8874538425599998)\n",
      "('index:{} value:{}', 966, 2.1999146857599996)\n",
      "('index:{} value:{}', 967, 2.1999146857599996)\n",
      "('index:{} value:{}', 968, 2.40733006976)\n",
      "('index:{} value:{}', 969, 2.6139689452799999)\n",
      "('index:{} value:{}', 970, 2.7169902073599999)\n",
      "('index:{} value:{}', 971, 2.7169902073599999)\n",
      "('index:{} value:{}', 972, 2.7169902073599999)\n",
      "('index:{} value:{}', 973, 2.7169902073599999)\n",
      "('index:{} value:{}', 974, 2.7297438115200001)\n",
      "('index:{} value:{}', 975, 2.7132802223999999)\n",
      "('index:{} value:{}', 976, 2.7132802223999999)\n",
      "('index:{} value:{}', 977, 2.7132802223999999)\n",
      "('index:{} value:{}', 978, 2.7132802223999999)\n",
      "('index:{} value:{}', 979, 2.7132802223999999)\n",
      "('index:{} value:{}', 980, 2.6972408742400003)\n",
      "('index:{} value:{}', 981, 2.68601122944)\n",
      "('index:{} value:{}', 982, 2.68601122944)\n",
      "('index:{} value:{}', 983, 2.68601122944)\n",
      "('index:{} value:{}', 984, 2.65889870048)\n",
      "('index:{} value:{}', 985, 2.65889870048)\n",
      "('index:{} value:{}', 986, 2.65889870048)\n",
      "('index:{} value:{}', 987, 2.65889870048)\n",
      "('index:{} value:{}', 988, 3.04486588384)\n",
      "('index:{} value:{}', 989, 3.1470426873599999)\n",
      "('index:{} value:{}', 990, 3.1470426873599999)\n",
      "('index:{} value:{}', 991, 3.1470426873599999)\n",
      "('index:{} value:{}', 992, 3.1470426873599999)\n",
      "('index:{} value:{}', 993, 3.1470426873599999)\n",
      "('index:{} value:{}', 994, 3.1486681248000004)\n",
      "('index:{} value:{}', 995, 3.1423192627200001)\n",
      "('index:{} value:{}', 996, 3.1423192627200001)\n",
      "('index:{} value:{}', 997, 3.1423192627200001)\n",
      "('index:{} value:{}', 998, 3.1207491356800001)\n",
      "('index:{} value:{}', 999, 3.1141615542400003)\n",
      "('index:{} value:{}', 1000, 3.1076723216000004)\n",
      "('index:{} value:{}', 1001, 3.1076723216000004)\n",
      "('index:{} value:{}', 1002, 3.1076723216000004)\n",
      "('index:{} value:{}', 1003, 3.0950993216000002)\n",
      "('index:{} value:{}', 1004, 3.0827006672000001)\n",
      "('index:{} value:{}', 1005, 3.0765261507200004)\n",
      "('index:{} value:{}', 1006, 3.0765261507200004)\n",
      "('index:{} value:{}', 1007, 3.0552430233599996)\n",
      "('index:{} value:{}', 1008, 3.0552430233599996)\n",
      "('index:{} value:{}', 1009, 3.04900592128)\n",
      "('index:{} value:{}', 1010, 3.0428157583999997)\n",
      "('index:{} value:{}', 1011, 3.0428157583999997)\n",
      "('index:{} value:{}', 1012, 3.0428157583999997)\n",
      "('index:{} value:{}', 1013, 3.0428157583999997)\n",
      "('index:{} value:{}', 1014, 3.0237664899199999)\n",
      "('index:{} value:{}', 1015, 3.01158286176)\n",
      "('index:{} value:{}', 1016, 3.01158286176)\n",
      "('index:{} value:{}', 1017, 3.01158286176)\n",
      "('index:{} value:{}', 1018, 3.3908082348799997)\n",
      "('index:{} value:{}', 1019, 3.3908082348799997)\n",
      "('index:{} value:{}', 1020, 3.4135795583999999)\n",
      "('index:{} value:{}', 1021, 3.4135795583999999)\n",
      "('index:{} value:{}', 1022, 3.4135795583999999)\n",
      "('index:{} value:{}', 1023, 3.3858219507200005)\n",
      "('index:{} value:{}', 1024, 3.3785423513599997)\n",
      "('index:{} value:{}', 1025, 3.3785423513599997)\n",
      "('index:{} value:{}', 1026, 3.3785423513599997)\n",
      "('index:{} value:{}', 1027, 3.3785423513599997)\n",
      "('index:{} value:{}', 1028, 3.3785423513599997)\n",
      "('index:{} value:{}', 1029, 3.3482562854400002)\n",
      "('index:{} value:{}', 1030, 3.3412659209599997)\n",
      "('index:{} value:{}', 1031, 3.3412659209599997)\n",
      "('index:{} value:{}', 1032, 3.3412659209599997)\n",
      "('index:{} value:{}', 1033, 3.3412659209599997)\n",
      "('index:{} value:{}', 1034, 3.3212398700800003)\n",
      "('index:{} value:{}', 1035, 3.3079113724799996)\n",
      "('index:{} value:{}', 1036, 3.3079113724799996)\n",
      "('index:{} value:{}', 1037, 3.3079113724799996)\n",
      "('index:{} value:{}', 1038, 3.6852082150400003)\n",
      "('index:{} value:{}', 1039, 3.7093363049599999)\n",
      "('index:{} value:{}', 1040, 3.7093363049599999)\n",
      "('index:{} value:{}', 1041, 3.7093363049599999)\n",
      "('index:{} value:{}', 1042, 3.7093363049599999)\n",
      "('index:{} value:{}', 1043, 3.6858322828800003)\n",
      "('index:{} value:{}', 1044, 3.6783059174400003)\n",
      "('index:{} value:{}', 1045, 3.66249992416)\n",
      "('index:{} value:{}', 1046, 3.66249992416)\n",
      "('index:{} value:{}', 1047, 3.66249992416)\n",
      "('index:{} value:{}', 1048, 3.6473287276800002)\n",
      "('index:{} value:{}', 1049, 3.6398600304000004)\n",
      "('index:{} value:{}', 1050, 3.6324418486400001)\n",
      "('index:{} value:{}', 1051, 3.6324418486400001)\n",
      "('index:{} value:{}', 1052, 3.6324418486400001)\n",
      "('index:{} value:{}', 1053, 3.6324418486400001)\n",
      "('index:{} value:{}', 1054, 3.9040973276800002)\n",
      "('index:{} value:{}', 1055, 4.1048285695999995)\n",
      "('index:{} value:{}', 1056, 4.1048285695999995)\n",
      "('index:{} value:{}', 1057, 4.1048285695999995)\n",
      "('index:{} value:{}', 1058, 4.1048285695999995)\n",
      "('index:{} value:{}', 1059, 4.4042631142399999)\n",
      "('index:{} value:{}', 1060, 4.6029875936)\n",
      "('index:{} value:{}', 1061, 4.6029875936)\n",
      "('index:{} value:{}', 1062, 4.6029875936)\n",
      "('index:{} value:{}', 1063, 4.6029875936)\n",
      "('index:{} value:{}', 1064, 4.6091790976000002)\n",
      "('index:{} value:{}', 1065, 4.5898759104)\n",
      "('index:{} value:{}', 1066, 4.5898759104)\n",
      "('index:{} value:{}', 1067, 4.571140464)\n",
      "('index:{} value:{}', 1068, 4.5526017151999998)\n",
      "('index:{} value:{}', 1069, 4.5413407776000003)\n",
      "('index:{} value:{}', 1070, 4.5413407776000003)\n",
      "('index:{} value:{}', 1071, 4.5413407776000003)\n",
      "('index:{} value:{}', 1072, 4.5413407776000003)\n",
      "('index:{} value:{}', 1073, 4.7999042432000003)\n",
      "('index:{} value:{}', 1074, 4.8983558623999999)\n",
      "('index:{} value:{}', 1075, 4.927923088)\n",
      "('index:{} value:{}', 1076, 4.927923088)\n",
      "('index:{} value:{}', 1077, 4.9075425344000001)\n",
      "('index:{} value:{}', 1078, 4.8975690719999996)\n",
      "('index:{} value:{}', 1079, 4.8769381760000003)\n",
      "('index:{} value:{}', 1080, 4.8769381760000003)\n",
      "('index:{} value:{}', 1081, 4.8769381760000003)\n",
      "('index:{} value:{}', 1082, 4.8571700672000002)\n",
      "('index:{} value:{}', 1083, 4.8473575391999999)\n",
      "('index:{} value:{}', 1084, 4.8375807744000001)\n",
      "('index:{} value:{}', 1085, 4.8278308320000001)\n",
      "('index:{} value:{}', 1086, 4.8278308320000001)\n",
      "('index:{} value:{}', 1087, 4.8083264768000005)\n",
      "('index:{} value:{}', 1088, 4.7986167680000005)\n",
      "('index:{} value:{}', 1089, 4.7789470080000003)\n",
      "('index:{} value:{}', 1090, 4.7789470080000003)\n",
      "('index:{} value:{}', 1091, 4.7789470080000003)\n",
      "('index:{} value:{}', 1092, 4.7596706431999998)\n",
      "('index:{} value:{}', 1093, 4.7404926272000001)\n",
      "('index:{} value:{}', 1094, 4.7997343680000002)\n",
      "('index:{} value:{}', 1095, 4.7997343680000002)\n",
      "('index:{} value:{}', 1096, 4.8192878975999998)\n",
      "('index:{} value:{}', 1097, 4.8192878975999998)\n",
      "('index:{} value:{}', 1098, 4.9776115839999999)\n",
      "('index:{} value:{}', 1099, 4.9776115839999999)\n",
      "('index:{} value:{}', 1100, 5.0073710368000004)\n",
      "('index:{} value:{}', 1101, 5.0073710368000004)\n",
      "('index:{} value:{}', 1102, 5.0073710368000004)\n",
      "('index:{} value:{}', 1103, 4.9767979711999999)\n",
      "('index:{} value:{}', 1104, 4.9667351008000002)\n",
      "('index:{} value:{}', 1105, 5.0256281504000002)\n",
      "('index:{} value:{}', 1106, 5.0256281504000002)\n",
      "('index:{} value:{}', 1107, 5.0328120831999996)\n",
      "('index:{} value:{}', 1108, 5.0277337087999996)\n",
      "('index:{} value:{}', 1109, 5.2564706656000002)\n",
      "('index:{} value:{}', 1110, 5.2564706656000002)\n",
      "('index:{} value:{}', 1111, 5.2564706656000002)\n",
      "('index:{} value:{}', 1112, 5.3074645183999998)\n",
      "('index:{} value:{}', 1113, 5.3972122687999997)\n",
      "('index:{} value:{}', 1114, 5.6231820479999994)\n",
      "('index:{} value:{}', 1115, 5.6231820479999994)\n",
      "('index:{} value:{}', 1116, 5.8062181055999993)\n",
      "('index:{} value:{}', 1117, 5.8062181055999993)\n",
      "('index:{} value:{}', 1118, 5.7884929696)\n",
      "('index:{} value:{}', 1119, 6.0141408800000002)\n",
      "('index:{} value:{}', 1120, 5.9484394111999999)\n",
      "('index:{} value:{}', 1121, 5.9484394111999999)\n",
      "('index:{} value:{}', 1122, 5.8829838144000002)\n",
      "('index:{} value:{}', 1123, 6.0303997248000005)\n",
      "('index:{} value:{}', 1124, 5.7926415008000003)\n",
      "('index:{} value:{}', 1125, 6.0255448703999992)\n",
      "('index:{} value:{}', 1126, 6.0255448703999992)\n",
      "('index:{} value:{}', 1127, 5.7707678335999999)\n",
      "('index:{} value:{}', 1128, 5.9556367551999996)\n",
      "('index:{} value:{}', 1129, 6.0328539744000009)\n",
      "('index:{} value:{}', 1130, 6.0328539744000009)\n",
      "('index:{} value:{}', 1131, 6.0328539744000009)\n",
      "('index:{} value:{}', 1132, 5.9548276127999999)\n",
      "('index:{} value:{}', 1133, 5.9491680864000003)\n",
      "('index:{} value:{}', 1134, 6.0522465696000003)\n",
      "('index:{} value:{}', 1135, 6.0522465696000003)\n",
      "('index:{} value:{}', 1136, 5.9266283296000006)\n",
      "('index:{} value:{}', 1137, 6.0374629567999998)\n",
      "('index:{} value:{}', 1138, 6.0313876832000002)\n",
      "('index:{} value:{}', 1139, 6.1585839744000008)\n",
      "('index:{} value:{}', 1140, 6.1585839744000008)\n",
      "('index:{} value:{}', 1141, 6.1585839744000008)\n",
      "('index:{} value:{}', 1142, 5.9170929664000003)\n",
      "('index:{} value:{}', 1143, 6.1361828000000003)\n",
      "('index:{} value:{}', 1144, 6.1361828000000003)\n",
      "('index:{} value:{}', 1145, 5.8997031104)\n",
      "('index:{} value:{}', 1146, 5.8997031104)\n",
      "('index:{} value:{}', 1147, 5.8848300896000003)\n",
      "('index:{} value:{}', 1148, 6.0711697727999994)\n",
      "('index:{} value:{}', 1149, 5.6942390559999998)\n",
      "('index:{} value:{}', 1150, 5.6942390559999998)\n",
      "('index:{} value:{}', 1151, 5.6942390559999998)\n",
      "('index:{} value:{}', 1152, 5.6942390559999998)\n",
      "('index:{} value:{}', 1153, 5.4173424800000003)\n",
      "('index:{} value:{}', 1154, 5.0051626591999998)\n",
      "('index:{} value:{}', 1155, 5.0051626591999998)\n",
      "('index:{} value:{}', 1156, 5.0051626591999998)\n",
      "('index:{} value:{}', 1157, 4.7446948031999998)\n",
      "('index:{} value:{}', 1158, 4.6048159872000003)\n",
      "('index:{} value:{}', 1159, 4.3286512156799999)\n",
      "('index:{} value:{}', 1160, 4.3286512156799999)\n",
      "('index:{} value:{}', 1161, 4.3286512156799999)\n",
      "('index:{} value:{}', 1162, 4.0546429651199993)\n",
      "('index:{} value:{}', 1163, 3.9193682140800004)\n",
      "('index:{} value:{}', 1164, 3.6505997193599997)\n",
      "('index:{} value:{}', 1165, 3.6505997193599997)\n",
      "('index:{} value:{}', 1166, 3.3837472380799998)\n",
      "('index:{} value:{}', 1167, 3.2515695801599995)\n",
      "('index:{} value:{}', 1168, 3.1203105894399998)\n",
      "('index:{} value:{}', 1169, 2.9888441721599994)\n",
      "('index:{} value:{}', 1170, 2.9888441721599994)\n",
      "('index:{} value:{}', 1171, 2.9888441721599994)\n",
      "('index:{} value:{}', 1172, 2.7284102911999999)\n",
      "('index:{} value:{}', 1173, 2.5987771849599999)\n",
      "('index:{} value:{}', 1174, 2.4939892208000001)\n",
      "('index:{} value:{}', 1175, 2.38802777664)\n",
      "('index:{} value:{}', 1176, 2.38802777664)\n",
      "('index:{} value:{}', 1177, 2.2868791651199998)\n",
      "('index:{} value:{}', 1178, 2.1205615094399999)\n",
      "('index:{} value:{}', 1179, 2.1205615094399999)\n",
      "('index:{} value:{}', 1180, 1.9545692988799999)\n",
      "('index:{} value:{}', 1181, 1.9545692988799999)\n",
      "('index:{} value:{}', 1182, 1.9545692988799999)\n",
      "('index:{} value:{}', 1183, 1.8772877059200002)\n",
      "('index:{} value:{}', 1184, 1.87349233632)\n",
      "('index:{} value:{}', 1185, 1.87349233632)\n",
      "('index:{} value:{}', 1186, 1.7624248012799999)\n",
      "('index:{} value:{}', 1187, 1.6285899660799998)\n",
      "('index:{} value:{}', 1188, 1.6077614784000001)\n",
      "('index:{} value:{}', 1189, 1.5112084380799999)\n",
      "('index:{} value:{}', 1190, 1.5112084380799999)\n",
      "('index:{} value:{}', 1191, 1.5112084380799999)\n",
      "('index:{} value:{}', 1192, 1.22749181984)\n",
      "('index:{} value:{}', 1193, 1.1434241596799999)\n",
      "('index:{} value:{}', 1194, 1.05481591424)\n",
      "('index:{} value:{}', 1195, 1.05481591424)\n",
      "('index:{} value:{}', 1196, 1.05481591424)\n",
      "('index:{} value:{}', 1197, 0.97873060032000003)\n",
      "('index:{} value:{}', 1198, 0.95591680800000001)\n",
      "('index:{} value:{}', 1199, 0.80173092384)\n",
      "('index:{} value:{}', 1200, 0.80173092384)\n",
      "('index:{} value:{}', 1201, 0.80173092384)\n",
      "('index:{} value:{}', 1202, 0.80173092384)\n",
      "('index:{} value:{}', 1203, 0.30591170719999999)\n",
      "('index:{} value:{}', 1204, 0.19079309568)\n",
      "('index:{} value:{}', 1205, 0.19079309568)\n"
     ]
    }
   ],
   "source": [
    "for i, val in enumerate(df['current']):\n",
    "    if val > 0.01:\n",
    "        print(\"index:{} value:{}\", i, val)"
   ]
  },
  {
   "cell_type": "code",
   "execution_count": 214,
   "metadata": {},
   "outputs": [
    {
     "name": "stdout",
     "output_type": "stream",
     "text": [
      "1119\n",
      "1123\n",
      "1125\n",
      "1126\n",
      "1129\n",
      "1130\n",
      "1131\n",
      "1134\n",
      "1135\n",
      "1137\n",
      "1138\n",
      "1139\n",
      "1140\n",
      "1141\n",
      "1143\n",
      "1144\n",
      "1148\n"
     ]
    }
   ],
   "source": [
    "for i, val in enumerate(df['current']):\n",
    "    if val >= 6:\n",
    "        print(i)"
   ]
  },
  {
   "cell_type": "code",
   "execution_count": 62,
   "metadata": {},
   "outputs": [
    {
     "data": {
      "text/plain": [
       "0    7.825922e-07\n",
       "1    7.835735e-07\n",
       "2    7.835735e-07\n",
       "3    7.835735e-07\n",
       "4    7.812431e-07\n",
       "5    7.906184e-07\n",
       "6    8.066859e-02\n",
       "7    8.066859e-02\n",
       "8    8.066859e-02\n",
       "9    1.076217e-01\n",
       "Name: current, dtype: float64"
      ]
     },
     "execution_count": 62,
     "metadata": {},
     "output_type": "execute_result"
    }
   ],
   "source": [
    "df['current'][0:10]"
   ]
  },
  {
   "cell_type": "code",
   "execution_count": 64,
   "metadata": {},
   "outputs": [
    {
     "data": {
      "text/plain": [
       "13.259999990463257"
      ]
     },
     "execution_count": 64,
     "metadata": {},
     "output_type": "execute_result"
    }
   ],
   "source": [
    "(df['time'] - 1.50666343e+09)[285]"
   ]
  },
  {
   "cell_type": "code",
   "execution_count": 57,
   "metadata": {},
   "outputs": [
    {
     "data": {
      "text/plain": [
       "1062"
      ]
     },
     "execution_count": 57,
     "metadata": {},
     "output_type": "execute_result"
    }
   ],
   "source": [
    "len(df['time'])"
   ]
  },
  {
   "cell_type": "code",
   "execution_count": 230,
   "metadata": {},
   "outputs": [
    {
     "data": {
      "text/plain": [
       "6.7400000095367432"
      ]
     },
     "execution_count": 230,
     "metadata": {},
     "output_type": "execute_result"
    }
   ],
   "source": [
    "df['time'][1205] - df['time'][868]"
   ]
  },
  {
   "cell_type": "code",
   "execution_count": 65,
   "metadata": {},
   "outputs": [
    {
     "data": {
      "text/plain": [
       "5.699999990463257"
      ]
     },
     "execution_count": 65,
     "metadata": {},
     "output_type": "execute_result"
    }
   ],
   "source": [
    "13.259999990463257 - 7.56"
   ]
  },
  {
   "cell_type": "code",
   "execution_count": null,
   "metadata": {},
   "outputs": [],
   "source": []
  }
 ],
 "metadata": {
  "anaconda-cloud": {},
  "kernelspec": {
   "display_name": "Python 2",
   "language": "python",
   "name": "python2"
  },
  "language_info": {
   "codemirror_mode": {
    "name": "ipython",
    "version": 2
   },
   "file_extension": ".py",
   "mimetype": "text/x-python",
   "name": "python",
   "nbconvert_exporter": "python",
   "pygments_lexer": "ipython2",
   "version": "2.7.12"
  }
 },
 "nbformat": 4,
 "nbformat_minor": 1
}
